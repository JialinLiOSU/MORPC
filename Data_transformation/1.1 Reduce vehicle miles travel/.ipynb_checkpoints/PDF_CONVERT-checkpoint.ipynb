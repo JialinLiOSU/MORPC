{
 "cells": [
  {
   "cell_type": "code",
   "execution_count": 1,
   "metadata": {},
   "outputs": [],
   "source": [
    "import pdfplumber\n",
    "import pandas as pd"
   ]
  },
  {
   "cell_type": "code",
   "execution_count": 2,
   "metadata": {},
   "outputs": [],
   "source": [
    "import os"
   ]
  },
  {
   "cell_type": "markdown",
   "metadata": {},
   "source": [
    "<h3>Problem</h3>"
   ]
  },
  {
   "cell_type": "markdown",
   "metadata": {},
   "source": [
    "<p>Data for 2000 year can't use this transformation tool, It gives the reverse result.May need to use manual process.<br>\n",
    "2000 ~ 2008 county name use full name<br>\n",
    "2009~2018 county name use abbreviate name<br>\n",
    "Start from 2013,the table is more two columns than before.</p>"
   ]
  },
  {
   "cell_type": "code",
   "execution_count": 3,
   "metadata": {},
   "outputs": [
    {
     "name": "stdout",
     "output_type": "stream",
     "text": [
      "excel\\2017 kDVMT.pdf.xlsx\n",
      "excel\\2018 kDVMT.pdf.xlsx\n",
      "excel\\kDVMT 2016.pdf.xlsx\n",
      "excel\\VMT2000.pdf.xlsx\n",
      "excel\\VMT2001.pdf.xlsx\n",
      "excel\\VMT2002.pdf.xlsx\n",
      "excel\\VMT2003.pdf.xlsx\n",
      "excel\\VMT2004.pdf.xlsx\n",
      "excel\\VMT2005.pdf.xlsx\n",
      "excel\\vmt2006.pdf.xlsx\n",
      "excel\\VMT2007.pdf.xlsx\n",
      "excel\\VMT2008.pdf.xlsx\n",
      "excel\\VMT2009.pdf.xlsx\n",
      "excel\\VMT2010.pdf.xlsx\n",
      "excel\\VMT2011.pdf.xlsx\n",
      "excel\\VMT2012.pdf.xlsx\n",
      "excel\\VMT2013.pdf.xlsx\n",
      "excel\\VMT2014.pdf.xlsx\n",
      "excel\\VMT2015.pdf.xlsx\n",
      "Finished Transform all file!\n"
     ]
    }
   ],
   "source": [
    "DATADIR = \"pdf\"\n",
    "OUTPUT = \"excel\"\n",
    "def pdftoexcel(DATADIR,OUTPUT):\n",
    "    '''\n",
    "    DATADIR: folder route for all pdf file\n",
    "    OUTPUT: create new folder for output excel\n",
    "    '''\n",
    "    for file in os.listdir(DATADIR): \n",
    "        path = os.path.join(DATADIR,file)\n",
    "        pdf = pdfplumber.open(path)\n",
    "        page = len(pdf.pages)\n",
    "        datalist = [ 'df'+ str(i) for i in range(page)]\n",
    "        for i in range(page):\n",
    "            p = pdf.pages[i]\n",
    "            table = p.extract_table()\n",
    "            #columns_name = ['county', '1', '2', '3', '4', '5', '6', '7', 'Subtotal', '1', '2', '3','4', '5', '6', '7', 'Subtotal', 'total']\n",
    "            datalist[i] = pd.DataFrame(table[0:])\n",
    "            #datalist[i].rename(columns = {datalist[i].columns[0]:'county',datalist[i].columns[17]:'total'},inplace = True)\n",
    "        df = pd.concat(datalist)\n",
    "        \n",
    "        output = os.path.join(OUTPUT,file+ '.xlsx')\n",
    "        print(output)\n",
    "        df.to_excel(output)\n",
    "    print('Finished Transform all file!')\n",
    "pdftoexcel(DATADIR,OUTPUT)"
   ]
  },
  {
   "cell_type": "code",
   "execution_count": 10,
   "metadata": {},
   "outputs": [],
   "source": [
    "pdf = pdfplumber.open('pdf\\VMT2000.pdf')\n",
    "page = len(pdf.pages)\n",
    "datalist = [ 'df'+ str(i) for i in range(page)]\n",
    "for i in range(page):\n",
    "    p = pdf.pages[i]\n",
    "    table = p.extract_table()\n",
    "            #columns_name = ['county', '1', '2', '3', '4', '5', '6', '7', 'Subtotal', '1', '2', '3','4', '5', '6', '7', 'Subtotal', 'total']\n",
    "    datalist[i] = pd.DataFrame(table)\n",
    "            #datalist[i].rename(columns = {datalist[i].columns[0]:'county',datalist[i].columns[17]:'total'},inplace = True)\n",
    "df = pd.concat(datalist)\n",
    "        "
   ]
  },
  {
   "cell_type": "code",
   "execution_count": null,
   "metadata": {},
   "outputs": [],
   "source": []
  }
 ],
 "metadata": {
  "kernelspec": {
   "display_name": "Python 3",
   "language": "python",
   "name": "python3"
  },
  "language_info": {
   "codemirror_mode": {
    "name": "ipython",
    "version": 3
   },
   "file_extension": ".py",
   "mimetype": "text/x-python",
   "name": "python",
   "nbconvert_exporter": "python",
   "pygments_lexer": "ipython3",
   "version": "3.6.5"
  }
 },
 "nbformat": 4,
 "nbformat_minor": 2
}
